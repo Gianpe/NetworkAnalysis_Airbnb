{
 "cells": [
  {
   "cell_type": "code",
   "execution_count": 1,
   "metadata": {},
   "outputs": [],
   "source": [
    "import numpy as np\n",
    "import scipy\n",
    "from spectralCD import *\n",
    "import networkx as nx\n",
    "import numpy as np\n",
    "import matplotlib.pyplot as plt\n",
    "from networkx.algorithms import bipartite\n",
    "from cdlib import algorithms, viz\n",
    "from numpy import linalg as LA"
   ]
  },
  {
   "cell_type": "code",
   "execution_count": 2,
   "metadata": {},
   "outputs": [],
   "source": [
    "a_matrix = np.loadtxt('leucemia.txt', dtype=int)\n",
    "a_matrix = a_matrix.astype(np.float64)\n",
    "A = scipy.sparse.csr_matrix(a_matrix)"
   ]
  },
  {
   "cell_type": "code",
   "execution_count": 3,
   "metadata": {},
   "outputs": [
    {
     "data": {
      "text/plain": [
       "array([[1080.,  114.,   89., ...,  325., 1322.,  263.],\n",
       "       [ 211.,  731.,  439., ...,   44.,   25.,   20.],\n",
       "       [  20.,   20.,   20., ...,   20.,   20.,   20.],\n",
       "       ...,\n",
       "       [  20.,   20.,   20., ...,   20.,   20.,   20.],\n",
       "       [ 481.,  200., 1133., ...,  136.,  738., 1137.],\n",
       "       [1380., 1138., 1721., ...,  681.,  909.,  370.]])"
      ]
     },
     "execution_count": 3,
     "metadata": {},
     "output_type": "execute_result"
    }
   ],
   "source": [
    "a_matrix"
   ]
  },
  {
   "cell_type": "code",
   "execution_count": 4,
   "metadata": {},
   "outputs": [],
   "source": [
    "G = bipartite.from_biadjacency_matrix(A)"
   ]
  },
  {
   "cell_type": "code",
   "execution_count": 5,
   "metadata": {},
   "outputs": [],
   "source": [
    "malattie, pazienti, fielder  = communities(G,10)"
   ]
  },
  {
   "cell_type": "code",
   "execution_count": 6,
   "metadata": {},
   "outputs": [
    {
     "data": {
      "text/plain": [
       "[[5003,\n",
       "  5008,\n",
       "  5013,\n",
       "  5018,\n",
       "  5009,\n",
       "  5019,\n",
       "  5015,\n",
       "  5001,\n",
       "  5014,\n",
       "  5000,\n",
       "  5007,\n",
       "  5012,\n",
       "  5017,\n",
       "  5028,\n",
       "  5006,\n",
       "  5002,\n",
       "  5004,\n",
       "  5011],\n",
       " [5005,\n",
       "  5016,\n",
       "  5035,\n",
       "  5036,\n",
       "  5010,\n",
       "  5032,\n",
       "  5027,\n",
       "  5031,\n",
       "  5033,\n",
       "  5034,\n",
       "  5037,\n",
       "  5029,\n",
       "  5030],\n",
       " [5026, 5021, 5020, 5024, 5022, 5023, 5025]]"
      ]
     },
     "execution_count": 6,
     "metadata": {},
     "output_type": "execute_result"
    }
   ],
   "source": [
    "malattie"
   ]
  },
  {
   "cell_type": "code",
   "execution_count": 7,
   "metadata": {},
   "outputs": [],
   "source": [
    "x = np.array([i for i in range(fielder.shape[0])])\n",
    "import matplotlib.pyplot as plt"
   ]
  },
  {
   "cell_type": "code",
   "execution_count": 8,
   "metadata": {},
   "outputs": [],
   "source": [
    "colori_paz = []\n",
    "pazienti.sort()\n",
    "for p in pazienti:\n",
    "    for i in range(len(malattie)):\n",
    "        if p in malattie[i]:\n",
    "            colori_paz.append(i)\n"
   ]
  },
  {
   "cell_type": "code",
   "execution_count": 9,
   "metadata": {},
   "outputs": [
    {
     "data": {
      "image/png": "[encoded data removed]",
      "text/plain": [
       "<Figure size 432x288 with 1 Axes>"
      ]
     },
     "metadata": {
      "needs_background": "light"
     },
     "output_type": "display_data"
    }
   ],
   "source": [
    "plt.scatter(x, fielder,c = colori_paz)\n",
    "plt.axis([0,40, np.min(fielder),np.max(fielder)])\n",
    "plt.show()"
   ]
  },
  {
   "cell_type": "code",
   "execution_count": 10,
   "metadata": {},
   "outputs": [],
   "source": [
    "# to hold weight of the original bi graph\n",
    "def my_weight(G, u, v, weight=\"weight\"):\n",
    "    w = 0\n",
    "    for nbr in set(G[u]) & set(G[v]):\n",
    "        w += G[u][nbr].get(weight, 1) + G[v][nbr].get(weight, 1)\n",
    "    return w"
   ]
  },
  {
   "cell_type": "code",
   "execution_count": 11,
   "metadata": {},
   "outputs": [
    {
     "name": "stdout",
     "output_type": "stream",
     "text": [
      "5000\n",
      "38\n"
     ]
    }
   ],
   "source": [
    "gene_activities = {n for n, d in G.nodes(data=True) if d[\"bipartite\"] == 0}\n",
    "patients = set(G) - gene_activities #to obtain 2 set of nodes. \n",
    "                                  #This is usefull because a lot of bipartite functions need a set of nodes\n",
    "print(len(gene_activities))\n",
    "print(len(patients))"
   ]
  },
  {
   "cell_type": "code",
   "execution_count": 12,
   "metadata": {},
   "outputs": [
    {
     "name": "stdout",
     "output_type": "stream",
     "text": [
      "Name: \n",
      "Type: Graph\n",
      "Number of nodes: 38\n",
      "Number of edges: 703\n",
      "Average degree:  37.0000\n"
     ]
    }
   ],
   "source": [
    "G_H= bipartite.generic_weighted_projected_graph(G, list(patients), weight_function=my_weight)\n",
    "print(nx.info(G_H))"
   ]
  },
  {
   "cell_type": "code",
   "execution_count": 15,
   "metadata": {},
   "outputs": [
    {
     "data": {
      "image/png": "[encoded data removed]",
      "text/plain": [
       "<Figure size 432x288 with 1 Axes>"
      ]
     },
     "metadata": {},
     "output_type": "display_data"
    }
   ],
   "source": [
    "color_map = []\n",
    "for node in G_H:\n",
    "    if node in malattie[0]:\n",
    "        color_map.append(0)\n",
    "        continue\n",
    "    elif node in malattie[1]:\n",
    "        color_map.append(1)\n",
    "        continue\n",
    "    else:\n",
    "        color_map.append(2)   \n",
    "nx.draw(G_H, node_color=color_map, with_labels=True)\n",
    "plt.show()"
   ]
  },
  {
   "cell_type": "markdown",
   "metadata": {},
   "source": [
    "# Test on our netwoek"
   ]
  },
  {
   "cell_type": "code",
   "execution_count": 2,
   "metadata": {},
   "outputs": [],
   "source": [
    "def read_net_w(filename):\n",
    "    g = nx.Graph()\n",
    "    with open(filename) as f:\n",
    "        f.readline()\n",
    "        for l in f:\n",
    "            l = l.split(\",\")\n",
    "            g.add_node(l[0], bipartite = 0)\n",
    "            g.add_node(l[1], bipartite = 1)\n",
    "            g.add_edge(l[0], l[1], weight=int(l[2]))\n",
    "            \n",
    "    return g\n",
    "\n",
    "\n",
    "\n",
    "g = read_net_w(f'Data/weighted_net_amsterdam.csv')"
   ]
  },
  {
   "cell_type": "code",
   "execution_count": 3,
   "metadata": {},
   "outputs": [
    {
     "name": "stdout",
     "output_type": "stream",
     "text": [
      "Name: \n",
      "Type: Graph\n",
      "Number of nodes: 11266\n",
      "Number of edges: 11265\n",
      "Average degree:   1.9998\n"
     ]
    }
   ],
   "source": [
    "print(nx.info(g))"
   ]
  },
  {
   "cell_type": "code",
   "execution_count": 4,
   "metadata": {},
   "outputs": [
    {
     "name": "stdout",
     "output_type": "stream",
     "text": [
      "11110\n",
      "156\n"
     ]
    }
   ],
   "source": [
    "top_nodes = {n for n, d in g.nodes(data=True) if d[\"bipartite\"] == 0}\n",
    "bottom_nodes = set(g) - top_nodes #to obtain 2 set of nodes. \n",
    "                                  #This is usefull because a lot of bipartite functions need a set of nodes\n",
    "print(len(top_nodes))\n",
    "print(len(bottom_nodes))"
   ]
  },
  {
   "cell_type": "code",
   "execution_count": 18,
   "metadata": {},
   "outputs": [],
   "source": [
    "comm ,case,fielder = communities(g,30,scaler = StandardScaler())"
   ]
  },
  {
   "cell_type": "code",
   "execution_count": 19,
   "metadata": {},
   "outputs": [],
   "source": [
    "comm2 ,case2,fielder2 = communities(g,30,scaler = MinMaxScaler())"
   ]
  },
  {
   "cell_type": "code",
   "execution_count": 15,
   "metadata": {},
   "outputs": [],
   "source": [
    "import pickle\n",
    "\n",
    "with open(\"communities.txt\", \"wb\") as fp:\n",
    "    pickle.dump(comm, fp)\n",
    "    \n",
    "with open(\"fielder.txt\", \"wb\") as fp:\n",
    "    pickle.dump(fielder, fp)\n",
    "    \n",
    "with open(\"case.txt\", \"wb\") as fp:\n",
    "    pickle.dump(case, fp)"
   ]
  },
  {
   "cell_type": "code",
   "execution_count": 5,
   "metadata": {},
   "outputs": [],
   "source": [
    "import pickle\n",
    "\n",
    "\n",
    "with open('communities.txt', 'rb') as c:\n",
    "    comm = pickle.load(c)\n",
    "\n",
    "with open('fielder.txt', 'rb') as f:\n",
    "    fielder = pickle.load(f)\n",
    "\n",
    "with open('case.txt', 'rb') as h:\n",
    "    case = pickle.load(h)"
   ]
  },
  {
   "cell_type": "code",
   "execution_count": 6,
   "metadata": {},
   "outputs": [],
   "source": [
    "# to hold weight of the original bi graph\n",
    "def my_weight(G, u, v, weight=\"weight\"):\n",
    "    w = 0\n",
    "    for nbr in set(G[u]) & set(G[v]):\n",
    "        w += G[u][nbr].get(weight, 1) + G[v][nbr].get(weight, 1)\n",
    "    return w"
   ]
  },
  {
   "cell_type": "code",
   "execution_count": 7,
   "metadata": {},
   "outputs": [
    {
     "name": "stdout",
     "output_type": "stream",
     "text": [
      "Name: \n",
      "Type: Graph\n",
      "Number of nodes: 156\n",
      "Number of edges: 701\n",
      "Average degree:   8.9872\n"
     ]
    }
   ],
   "source": [
    "g_l= bipartite.generic_weighted_projected_graph(g, list(bottom_nodes), weight_function=my_weight)\n",
    "print(nx.info(g_l))"
   ]
  },
  {
   "cell_type": "code",
   "execution_count": 10,
   "metadata": {},
   "outputs": [
    {
     "name": "stdout",
     "output_type": "stream",
     "text": [
      "community 0 size: 71\n",
      "community 1 size: 9\n",
      "community 2 size: 6\n",
      "community 3 size: 70\n"
     ]
    }
   ],
   "source": [
    "for i in range(len(comm)):\n",
    "    print(\"community {} size: {}\".format(i,len(comm[i])))"
   ]
  },
  {
   "cell_type": "code",
   "execution_count": 11,
   "metadata": {},
   "outputs": [],
   "source": [
    "colori = []\n",
    "for p in case:\n",
    "    for i in range(len(comm)):\n",
    "        if p in comm[i]:\n",
    "            colori.append(i)"
   ]
  },
  {
   "cell_type": "markdown",
   "metadata": {},
   "source": [
    "### Viz of communities"
   ]
  },
  {
   "cell_type": "code",
   "execution_count": 12,
   "metadata": {},
   "outputs": [
    {
     "data": {
      "image/png": "[encoded data removed]",
      "text/plain": [
       "<Figure size 1152x432 with 2 Axes>"
      ]
     },
     "metadata": {
      "needs_background": "light"
     },
     "output_type": "display_data"
    }
   ],
   "source": [
    "x = np.array([i for i in range(fielder.shape[0])])\n",
    "\n",
    "fig = plt.figure(figsize=(16,6) )\n",
    "\n",
    "\n",
    "\n",
    "plt.subplot(1,2,1)\n",
    "plt.scatter(x, fielder,c = colori)\n",
    "plt.axis([0,len(x)+1, np.amin(fielder),np.amax(fielder)])\n",
    "plt.title(\"Scatter plot\")\n",
    "plt.xlabel(\"Listings\")\n",
    "plt.ylabel(\"Fielder's vector\")\n",
    "\n",
    "\n",
    "plt.subplot(1,2,2)\n",
    "plt.scatter(x, fielder,c = colori)\n",
    "plt.axis([0,len(x)+1, np.percentile(fielder,30),np.percentile(fielder,90)])\n",
    "plt.xlabel(\"Listings\")\n",
    "plt.ylabel(\"Fielder's vector\")\n",
    "plt.title('Zoomed scatter plot ')\n",
    "\n",
    "plt.show()"
   ]
  },
  {
   "cell_type": "code",
   "execution_count": 13,
   "metadata": {},
   "outputs": [
    {
     "data": {
      "image/png": "[encoded data removed]",
      "text/plain": [
       "<Figure size 432x288 with 1 Axes>"
      ]
     },
     "metadata": {
      "needs_background": "light"
     },
     "output_type": "display_data"
    }
   ],
   "source": [
    "x = np.array([i for i in range(fielder.shape[0])])\n",
    "plt.scatter(x, fielder,c = colori)\n",
    "plt.axis([0,len(x)+1, np.amin(fielder),np.amax(fielder)])\n",
    "plt.title(\"Scatter plot\")\n",
    "plt.xlabel(\"Listings\")\n",
    "plt.ylabel(\"Fielder's vector\")\n",
    "plt.show()"
   ]
  },
  {
   "cell_type": "code",
   "execution_count": 14,
   "metadata": {},
   "outputs": [
    {
     "data": {
      "image/png": "[encoded data removed]",
      "text/plain": [
       "<Figure size 432x288 with 1 Axes>"
      ]
     },
     "metadata": {
      "needs_background": "light"
     },
     "output_type": "display_data"
    }
   ],
   "source": [
    "x = np.array([i for i in range(fielder.shape[0])])\n",
    "plt.scatter(x, fielder,c = colori)\n",
    "plt.axis([0,len(x)+1, np.percentile(fielder,30),np.percentile(fielder,90)])\n",
    "plt.xlabel(\"Listings\")\n",
    "plt.ylabel(\"Fielder's vector\")\n",
    "plt.title('Zoomed scatter plot ')\n",
    "plt.show()"
   ]
  },
  {
   "cell_type": "code",
   "execution_count": 15,
   "metadata": {},
   "outputs": [
    {
     "name": "stdout",
     "output_type": "stream",
     "text": [
      "2818 {'bipartite': 1}\n",
      "35271224 {'bipartite': 1}\n",
      "10240434 {'bipartite': 1}\n",
      "19890254 {'bipartite': 1}\n",
      "20702723 {'bipartite': 1}\n",
      "13189108 {'bipartite': 1}\n",
      "9996040 {'bipartite': 1}\n",
      "34882977 {'bipartite': 1}\n",
      "18514561 {'bipartite': 1}\n",
      "6512505 {'bipartite': 1}\n",
      "14829814 {'bipartite': 1}\n",
      "27525864 {'bipartite': 1}\n",
      "1583266 {'bipartite': 1}\n",
      "4656557 {'bipartite': 1}\n",
      "1924194 {'bipartite': 1}\n",
      "16804326 {'bipartite': 1}\n",
      "35377242 {'bipartite': 1}\n",
      "1601408 {'bipartite': 1}\n",
      "23575414 {'bipartite': 1}\n",
      "21321370 {'bipartite': 1}\n",
      "11708784 {'bipartite': 1}\n",
      "16277689 {'bipartite': 1}\n",
      "15780515 {'bipartite': 1}\n",
      "40791472 {'bipartite': 1}\n",
      "20878711 {'bipartite': 1}\n",
      "14245271 {'bipartite': 1}\n",
      "10923071 {'bipartite': 1}\n",
      "15564496 {'bipartite': 1}\n",
      "37161821 {'bipartite': 1}\n",
      "2472277 {'bipartite': 1}\n",
      "7812608 {'bipartite': 1}\n",
      "29919168 {'bipartite': 1}\n",
      "12897197 {'bipartite': 1}\n",
      "685990 {'bipartite': 1}\n",
      "17005568 {'bipartite': 1}\n",
      "19242200 {'bipartite': 1}\n",
      "15110159 {'bipartite': 1}\n",
      "14021349 {'bipartite': 1}\n",
      "16696921 {'bipartite': 1}\n",
      "12002357 {'bipartite': 1}\n",
      "22026123 {'bipartite': 1}\n",
      "23429851 {'bipartite': 1}\n",
      "13825291 {'bipartite': 1}\n",
      "3270897 {'bipartite': 1}\n",
      "17401373 {'bipartite': 1}\n",
      "22092298 {'bipartite': 1}\n",
      "654931 {'bipartite': 1}\n",
      "4282415 {'bipartite': 1}\n",
      "24628192 {'bipartite': 1}\n",
      "14610348 {'bipartite': 1}\n",
      "20321345 {'bipartite': 1}\n",
      "27863226 {'bipartite': 1}\n",
      "10934482 {'bipartite': 1}\n",
      "33990484 {'bipartite': 1}\n",
      "3003918 {'bipartite': 1}\n",
      "12475352 {'bipartite': 1}\n",
      "21744543 {'bipartite': 1}\n",
      "13502166 {'bipartite': 1}\n",
      "21354405 {'bipartite': 1}\n",
      "17434174 {'bipartite': 1}\n",
      "24981353 {'bipartite': 1}\n",
      "4259933 {'bipartite': 1}\n",
      "1605387 {'bipartite': 1}\n",
      "17859181 {'bipartite': 1}\n",
      "1321735 {'bipartite': 1}\n",
      "17632137 {'bipartite': 1}\n",
      "730916 {'bipartite': 1}\n",
      "8706862 {'bipartite': 1}\n",
      "16401807 {'bipartite': 1}\n",
      "4076501 {'bipartite': 1}\n",
      "7962809 {'bipartite': 1}\n",
      "1230403 {'bipartite': 1}\n",
      "761411 {'bipartite': 1}\n",
      "14998245 {'bipartite': 1}\n",
      "30140860 {'bipartite': 1}\n",
      "28042923 {'bipartite': 1}\n",
      "2700366 {'bipartite': 1}\n",
      "15726563 {'bipartite': 1}\n",
      "2429334 {'bipartite': 1}\n",
      "39168555 {'bipartite': 1}\n",
      "35505451 {'bipartite': 1}\n",
      "1035801 {'bipartite': 1}\n",
      "25310162 {'bipartite': 1}\n",
      "19796378 {'bipartite': 1}\n",
      "12801514 {'bipartite': 1}\n",
      "17862359 {'bipartite': 1}\n",
      "16081933 {'bipartite': 1}\n",
      "24789739 {'bipartite': 1}\n",
      "8874073 {'bipartite': 1}\n",
      "15595655 {'bipartite': 1}\n",
      "3652804 {'bipartite': 1}\n",
      "17986807 {'bipartite': 1}\n",
      "20203218 {'bipartite': 1}\n",
      "14173331 {'bipartite': 1}\n",
      "927119 {'bipartite': 1}\n",
      "2661450 {'bipartite': 1}\n",
      "835550 {'bipartite': 1}\n",
      "1246308 {'bipartite': 1}\n",
      "13135409 {'bipartite': 1}\n",
      "15110564 {'bipartite': 1}\n",
      "8398522 {'bipartite': 1}\n",
      "35464664 {'bipartite': 1}\n",
      "14313251 {'bipartite': 1}\n",
      "6845563 {'bipartite': 1}\n",
      "23819110 {'bipartite': 1}\n",
      "12877936 {'bipartite': 1}\n",
      "20651079 {'bipartite': 1}\n",
      "14622016 {'bipartite': 1}\n",
      "23493592 {'bipartite': 1}\n",
      "14412610 {'bipartite': 1}\n",
      "25992447 {'bipartite': 1}\n",
      "24117588 {'bipartite': 1}\n",
      "29901220 {'bipartite': 1}\n",
      "23747999 {'bipartite': 1}\n",
      "6781848 {'bipartite': 1}\n",
      "4949644 {'bipartite': 1}\n",
      "29984774 {'bipartite': 1}\n",
      "24827860 {'bipartite': 1}\n",
      "29776071 {'bipartite': 1}\n",
      "27725104 {'bipartite': 1}\n",
      "26000561 {'bipartite': 1}\n",
      "39149225 {'bipartite': 1}\n",
      "2763386 {'bipartite': 1}\n",
      "2783156 {'bipartite': 1}\n",
      "20908840 {'bipartite': 1}\n",
      "3259374 {'bipartite': 1}\n",
      "8475898 {'bipartite': 1}\n",
      "14314114 {'bipartite': 1}\n",
      "3850557 {'bipartite': 1}\n",
      "759060 {'bipartite': 1}\n",
      "24615621 {'bipartite': 1}\n",
      "14792704 {'bipartite': 1}\n",
      "8028683 {'bipartite': 1}\n",
      "22566099 {'bipartite': 1}\n",
      "11899719 {'bipartite': 1}\n",
      "15458166 {'bipartite': 1}\n",
      "3722301 {'bipartite': 1}\n",
      "32008398 {'bipartite': 1}\n",
      "27523926 {'bipartite': 1}\n",
      "2497346 {'bipartite': 1}\n",
      "26560199 {'bipartite': 1}\n",
      "1155251 {'bipartite': 1}\n",
      "18950531 {'bipartite': 1}\n",
      "3428947 {'bipartite': 1}\n",
      "2761156 {'bipartite': 1}\n",
      "31148061 {'bipartite': 1}\n",
      "21188482 {'bipartite': 1}\n",
      "12840460 {'bipartite': 1}\n",
      "21374801 {'bipartite': 1}\n",
      "1986095 {'bipartite': 1}\n",
      "10800247 {'bipartite': 1}\n",
      "8269677 {'bipartite': 1}\n",
      "13526838 {'bipartite': 1}\n",
      "15959684 {'bipartite': 1}\n",
      "22930484 {'bipartite': 1}\n",
      "4119684 {'bipartite': 1}\n"
     ]
    }
   ],
   "source": [
    "for u,data in g_l.nodes(data = True):\n",
    "    print(u,data)"
   ]
  },
  {
   "cell_type": "code",
   "execution_count": 21,
   "metadata": {},
   "outputs": [
    {
     "data": {
      "image/png": "[encoded data removed]",
      "text/plain": [
       "<Figure size 432x288 with 1 Axes>"
      ]
     },
     "metadata": {},
     "output_type": "display_data"
    }
   ],
   "source": [
    "nx.draw(g_l, node_color=colori)\n",
    "plt.show()"
   ]
  },
  {
   "cell_type": "markdown",
   "metadata": {},
   "source": [
    "# Searching important nodes into communities"
   ]
  },
  {
   "cell_type": "markdown",
   "metadata": {},
   "source": [
    "Degree centrality"
   ]
  },
  {
   "cell_type": "code",
   "execution_count": 16,
   "metadata": {},
   "outputs": [
    {
     "name": "stdout",
     "output_type": "stream",
     "text": [
      "In community 0 node with highest degree are ('3003918', 10),('17005568', 9),('10240434', 9)\n",
      "In community 1 node with highest degree are ('26000561', 5),('34882977', 5),('33990484', 5)\n",
      "In community 2 node with highest degree are ('2818', 4),('20203218', 4),('26560199', 4)\n",
      "In community 3 node with highest degree are ('14173331', 26),('16696921', 20),('20321345', 20)\n"
     ]
    }
   ],
   "source": [
    "lista = comm\n",
    "for i,c in enumerate(lista):\n",
    "    degrees = dict(g_l.subgraph(c).degree())\n",
    "    max_degree = [(k, v) for k, v in sorted(degrees.items(), key=lambda item: -item[1])][:3]\n",
    "    print(\"In community {} node with highest degree are {},{},{}\".format(i,max_degree[0],max_degree[1],max_degree[2]))"
   ]
  },
  {
   "cell_type": "markdown",
   "metadata": {},
   "source": [
    "###### Geometric centralities"
   ]
  },
  {
   "cell_type": "markdown",
   "metadata": {},
   "source": [
    "Closeness Centrality"
   ]
  },
  {
   "cell_type": "code",
   "execution_count": 17,
   "metadata": {},
   "outputs": [
    {
     "name": "stdout",
     "output_type": "stream",
     "text": [
      "In community 0 node with highest closeness are ('2761156', 0.2194805194805195),('654931', 0.21580207501995213),('24628192', 0.21108508977361437) \n",
      "\n",
      "In community 1 node with highest closeness are ('26000561', 0.625),('34882977', 0.625),('33990484', 0.625) \n",
      "\n",
      "In community 2 node with highest closeness are ('2818', 0.8),('20203218', 0.8),('26560199', 0.8) \n",
      "\n",
      "In community 3 node with highest closeness are ('16696921', 0.34680005130178276),('20321345', 0.33494363929146537),('14173331', 0.3238711222900946) \n",
      "\n"
     ]
    }
   ],
   "source": [
    "for i,c in enumerate(lista):\n",
    "    closeness =  nx.closeness_centrality(g_l.subgraph(c))\n",
    "    max_closeness = [(k, v) for k, v in sorted(closeness.items(), key=lambda item: -item[1])][:3]\n",
    "    print(\"In community {} node with highest closeness are {},{},{} \\n\".format(i,max_closeness[0],max_closeness[1],max_closeness[2]))"
   ]
  },
  {
   "cell_type": "markdown",
   "metadata": {},
   "source": [
    "Betweennes Centrality"
   ]
  },
  {
   "cell_type": "code",
   "execution_count": 18,
   "metadata": {},
   "outputs": [
    {
     "name": "stdout",
     "output_type": "stream",
     "text": [
      "In community 0 node with highest betweenness is ('654931', 0.3175983436853002),('2761156', 0.3175983436853002),('24628192', 0.2732919254658385) \n",
      "\n",
      "In community 1 node with highest betweenness is ('26000561', 0.0),('34882977', 0.0),('33990484', 0.0) \n",
      "\n",
      "In community 2 node with highest betweenness is ('2818', 0.0),('20203218', 0.0),('26560199', 0.0) \n",
      "\n",
      "In community 3 node with highest betweenness is ('16696921', 0.23657289002557544),('16277689', 0.226768968456948),('20321345', 0.19224211423699913) \n",
      "\n"
     ]
    }
   ],
   "source": [
    "for i,c in enumerate(lista):\n",
    "    betweenness =  nx.betweenness_centrality(g_l.subgraph(c))\n",
    "    max_betweenness = [(k, v) for k, v in sorted(betweenness.items(), key=lambda item: -item[1])][:3]\n",
    "    print(\"In community {} node with highest betweenness is {},{},{} \\n\".format(i,max_betweenness[0],max_betweenness[1],max_betweenness[2]))"
   ]
  },
  {
   "cell_type": "markdown",
   "metadata": {},
   "source": [
    "Harmonic Centrality"
   ]
  },
  {
   "cell_type": "code",
   "execution_count": 19,
   "metadata": {},
   "outputs": [
    {
     "name": "stdout",
     "output_type": "stream",
     "text": [
      "In community 0 node with highest harmonic centrality is ('30140860', 21.09285714285715),('654931', 20.93333333333334),('4119684', 20.884523809523817) \n",
      "\n",
      "In community 1 node with highest harmonic centrality is ('26000561', 5.0),('34882977', 5.0),('33990484', 5.0) \n",
      "\n",
      "In community 2 node with highest harmonic centrality is ('2818', 4.0),('20203218', 4.0),('26560199', 4.0) \n",
      "\n",
      "In community 3 node with highest harmonic centrality is ('14173331', 33.583333333333336),('16696921', 32.13333333333332),('20321345', 31.699999999999992) \n",
      "\n"
     ]
    }
   ],
   "source": [
    "for i,c in enumerate(lista):\n",
    "    harmonic =  nx.harmonic_centrality(g_l.subgraph(c))\n",
    "    max_harmonic = [(k, v) for k, v in sorted(harmonic.items(), key=lambda item: -item[1])][:3]\n",
    "    print(\"In community {} node with highest harmonic centrality is {},{},{} \\n\".format(i,max_harmonic[0],max_harmonic[1],max_harmonic[2]))"
   ]
  },
  {
   "cell_type": "markdown",
   "metadata": {},
   "source": [
    "###### Connectivity based"
   ]
  },
  {
   "cell_type": "markdown",
   "metadata": {},
   "source": [
    "Eigenvector Centrality"
   ]
  },
  {
   "cell_type": "code",
   "execution_count": 20,
   "metadata": {},
   "outputs": [
    {
     "name": "stdout",
     "output_type": "stream",
     "text": [
      "In community 0 node with highest eigenvector centrality are ('3003918', 0.32001315971346544),('17005568', 0.3136601336954163),('10240434', 0.3136601336954163) \n",
      "\n",
      "In community 1 node with highest eigenvector centrality are ('26000561', 0.4082482904623778),('34882977', 0.4082482904623778),('33990484', 0.4082482904623778) \n",
      "\n",
      "In community 2 node with highest eigenvector centrality are ('2818', 0.4472135954996648),('20203218', 0.4472135954996648),('26560199', 0.4472135954996648) \n",
      "\n",
      "In community 3 node with highest eigenvector centrality are ('14173331', 0.22910384112253362),('16696921', 0.2235581446367401),('20321345', 0.22355805905590906) \n",
      "\n"
     ]
    }
   ],
   "source": [
    "for i,c in enumerate(lista):\n",
    "    eigenvector =  nx.eigenvector_centrality(g_l.subgraph(c))\n",
    "    max_eigenvector = [(k, v) for k, v in sorted(eigenvector.items(), key=lambda item: -item[1])][:3]\n",
    "    print(\"In community {} node with highest eigenvector centrality are {},{},{} \\n\".format(i,max_eigenvector[0],max_eigenvector[1],max_eigenvector[2]))"
   ]
  },
  {
   "cell_type": "markdown",
   "metadata": {},
   "source": [
    "PageRank"
   ]
  },
  {
   "cell_type": "code",
   "execution_count": 21,
   "metadata": {},
   "outputs": [
    {
     "name": "stdout",
     "output_type": "stream",
     "text": [
      "In community 0 node with highest pagerank is ('2761156', 0.020480265536562146),('29919168', 0.0184115327064923),('4119684', 0.018053622525831373) \n",
      "\n",
      "In community 1 node with highest pagerank is ('23819110', 0.14796915232548108),('34882977', 0.13899138991389912),('23747999', 0.1055350553505535) \n",
      "\n",
      "In community 2 node with highest pagerank is ('2818', 0.25059737146059413),('20203218', 0.21005437485340145),('26560199', 0.1700740132153158) \n",
      "\n",
      "In community 3 node with highest pagerank is ('1601408', 0.024681893236994375),('14173331', 0.02435681656260279),('14998245', 0.019939271128170094) \n",
      "\n"
     ]
    }
   ],
   "source": [
    "for i,c in enumerate(lista):\n",
    "    pagerank =  nx.pagerank(g_l.subgraph(c))\n",
    "    max_pagerank = [(k, v) for k, v in sorted(pagerank.items(), key=lambda item: -item[1])][:3]\n",
    "    print(\"In community {} node with highest pagerank is {},{},{} \\n\".format(i,max_pagerank[0],max_pagerank[1],max_pagerank[2]))"
   ]
  },
  {
   "cell_type": "code",
   "execution_count": 22,
   "metadata": {},
   "outputs": [
    {
     "data": {
      "text/plain": [
       "[('1601408', 0.024681893236994375),\n",
       " ('14173331', 0.02435681656260279),\n",
       " ('14998245', 0.019939271128170094)]"
      ]
     },
     "execution_count": 22,
     "metadata": {},
     "output_type": "execute_result"
    }
   ],
   "source": [
    "max_pagerank"
   ]
  },
  {
   "cell_type": "code",
   "execution_count": 23,
   "metadata": {},
   "outputs": [
    {
     "data": {
      "text/plain": [
       "[('16696921', 0.34680005130178276),\n",
       " ('20321345', 0.33494363929146537),\n",
       " ('14173331', 0.3238711222900946)]"
      ]
     },
     "execution_count": 23,
     "metadata": {},
     "output_type": "execute_result"
    }
   ],
   "source": [
    "max_closeness"
   ]
  },
  {
   "cell_type": "code",
   "execution_count": 24,
   "metadata": {},
   "outputs": [
    {
     "data": {
      "text/plain": [
       "[('16696921', 0.23657289002557544),\n",
       " ('16277689', 0.226768968456948),\n",
       " ('20321345', 0.19224211423699913)]"
      ]
     },
     "execution_count": 24,
     "metadata": {},
     "output_type": "execute_result"
    }
   ],
   "source": [
    "max_betweenness"
   ]
  },
  {
   "cell_type": "code",
   "execution_count": 25,
   "metadata": {},
   "outputs": [
    {
     "data": {
      "text/plain": [
       "[('14173331', 26), ('16696921', 20), ('20321345', 20)]"
      ]
     },
     "execution_count": 25,
     "metadata": {},
     "output_type": "execute_result"
    }
   ],
   "source": [
    "max_degree"
   ]
  },
  {
   "cell_type": "markdown",
   "metadata": {},
   "source": [
    "# Homophily"
   ]
  },
  {
   "cell_type": "markdown",
   "metadata": {},
   "source": [
    "###### Global approaches"
   ]
  },
  {
   "cell_type": "markdown",
   "metadata": {},
   "source": [
    "Assortative degree"
   ]
  },
  {
   "cell_type": "code",
   "execution_count": 26,
   "metadata": {},
   "outputs": [],
   "source": [
    "from networkx import degree_assortativity_coefficient,attribute_assortativity_coefficient"
   ]
  },
  {
   "cell_type": "code",
   "execution_count": 27,
   "metadata": {},
   "outputs": [
    {
     "name": "stdout",
     "output_type": "stream",
     "text": [
      "Assortativity cluster 0 : 0.8911922854730504 \n",
      "Assortativity cluster 1 : 0.9999999999999961 \n",
      "Assortativity cluster 2 : nan \n",
      "Assortativity cluster 3 : 0.8547844813367586 \n"
     ]
    },
    {
     "name": "stderr",
     "output_type": "stream",
     "text": [
      "C:\\Users\\Gianmarco\\anaconda3\\lib\\site-packages\\networkx\\algorithms\\assortativity\\correlation.py:288: RuntimeWarning: invalid value encountered in double_scalars\n",
      "  return (xy * (M - ab)).sum() / numpy.sqrt(vara * varb)\n"
     ]
    }
   ],
   "source": [
    "lista= comm  #una funzione crescente indica un assortative mixing, se ottengo una funz decerscente i nodi sono tutti diversi\n",
    "for i in range (0, len(lista)):\n",
    "    c=g_l.subgraph(lista[i])\n",
    "    try:\n",
    "        print(\"Assortativity cluster {} : {} \".format(i, degree_assortativity_coefficient(c, x='out', y='in', weight=None, nodes=None) ))\n",
    "    except:\n",
    "        pass\n",
    "#dal cluster 2 in poi, tutti i nodi hanno degree uguale all'interno del cluster (es: tutti degree==17)"
   ]
  },
  {
   "cell_type": "code",
   "execution_count": 28,
   "metadata": {},
   "outputs": [
    {
     "data": {
      "text/plain": [
       "DegreeView({'2818': 4, '20203218': 4, '26560199': 4, '17434174': 0, '17632137': 4, '15458166': 4})"
      ]
     },
     "execution_count": 28,
     "metadata": {},
     "output_type": "execute_result"
    }
   ],
   "source": [
    "g_l.subgraph(lista[2]).degree()"
   ]
  },
  {
   "cell_type": "markdown",
   "metadata": {},
   "source": [
    "knnk"
   ]
  },
  {
   "cell_type": "code",
   "execution_count": 29,
   "metadata": {},
   "outputs": [],
   "source": [
    "knn_comm = []\n",
    "for nd in comm:\n",
    "    knn = nx.k_nearest_neighbors(g_l.subgraph(nd)) #calculate the average nearest neighbor degree of nodes with degree k.\n",
    "    knn_comm.append(dict(sorted(knn.items())))"
   ]
  },
  {
   "cell_type": "code",
   "execution_count": 30,
   "metadata": {},
   "outputs": [
    {
     "data": {
      "image/png": "[encoded data removed]",
      "text/plain": [
       "<Figure size 1152x432 with 2 Axes>"
      ]
     },
     "metadata": {
      "needs_background": "light"
     },
     "output_type": "display_data"
    }
   ],
   "source": [
    "fig = plt.figure(figsize=(16,6) )\n",
    "\n",
    "plt.subplot(1,2,1)\n",
    "plt.plot(list(knn_comm[0].keys()), list(knn_comm[0].values()), '.', ms=10, alpha=0.8)\n",
    "plt.loglog()\n",
    "plt.xlabel(\"k\", fontsize=20)\n",
    "plt.ylabel(\"k_nn(k)\",fontsize=18)\n",
    "plt.xticks(fontsize=15)\n",
    "plt.yticks(fontsize=15)\n",
    "plt.title(\"Degree correlation in 1th Community\")\n",
    "\n",
    "\n",
    "plt.subplot(1,2,2)\n",
    "plt.plot(list(knn_comm[3].keys()), list(knn_comm[3].values()), '.', ms=10, alpha=0.8)\n",
    "plt.loglog()\n",
    "plt.xlabel(\"k\", fontsize=20)\n",
    "plt.ylabel(\"k_nn(k)\",fontsize=18)\n",
    "plt.xticks(fontsize=15)\n",
    "plt.yticks(fontsize=15)\n",
    "plt.title(\"Degree correlation in 4th Community\")\n",
    "\n",
    "\n",
    "\n",
    "\n",
    "\n",
    "plt.show()"
   ]
  },
  {
   "cell_type": "markdown",
   "metadata": {},
   "source": [
    "Assortative on node properties"
   ]
  },
  {
   "cell_type": "code",
   "execution_count": 12,
   "metadata": {},
   "outputs": [],
   "source": [
    "g_p = g_l.copy()"
   ]
  },
  {
   "cell_type": "code",
   "execution_count": 13,
   "metadata": {},
   "outputs": [],
   "source": [
    "import pandas as pd\n",
    "import numpy as np"
   ]
  },
  {
   "cell_type": "code",
   "execution_count": 14,
   "metadata": {},
   "outputs": [
    {
     "name": "stderr",
     "output_type": "stream",
     "text": [
      "C:\\Users\\Gianmarco\\anaconda3\\lib\\site-packages\\ipykernel_launcher.py:5: SettingWithCopyWarning: \n",
      "A value is trying to be set on a copy of a slice from a DataFrame.\n",
      "Try using .loc[row_indexer,col_indexer] = value instead\n",
      "\n",
      "See the caveats in the documentation: https://pandas.pydata.org/pandas-docs/stable/user_guide/indexing.html#returning-a-view-versus-a-copy\n",
      "  \"\"\"\n"
     ]
    }
   ],
   "source": [
    "listings = pd.read_csv(r\"C:\\Users\\Gianmarco\\Dropbox\\Il mio PC (DESKTOP-DM1F9TN)\\Desktop\\SocialNetworkAnalysis\\progetto\\Data\\listings_amsterdam.csv\")\n",
    "listings = listings[listings.reviewnumber != '[]' ]\n",
    "listings = listings[listings.rating != '[]' ]\n",
    "info = listings[['listing_id','rating']]\n",
    "info['rating'] = info.rating.astype(float).astype(int)"
   ]
  },
  {
   "cell_type": "code",
   "execution_count": 18,
   "metadata": {},
   "outputs": [
    {
     "data": {
      "text/plain": [
       "array([4, 5])"
      ]
     },
     "execution_count": 18,
     "metadata": {},
     "output_type": "execute_result"
    }
   ],
   "source": [
    "info.rating.unique()"
   ]
  },
  {
   "cell_type": "code",
   "execution_count": 15,
   "metadata": {},
   "outputs": [
    {
     "data": {
      "text/html": [
       "<div>\n",
       "<style scoped>\n",
       "    .dataframe tbody tr th:only-of-type {\n",
       "        vertical-align: middle;\n",
       "    }\n",
       "\n",
       "    .dataframe tbody tr th {\n",
       "        vertical-align: top;\n",
       "    }\n",
       "\n",
       "    .dataframe thead th {\n",
       "        text-align: right;\n",
       "    }\n",
       "</style>\n",
       "<table border=\"1\" class=\"dataframe\">\n",
       "  <thead>\n",
       "    <tr style=\"text-align: right;\">\n",
       "      <th></th>\n",
       "      <th>listing_id</th>\n",
       "      <th>rating</th>\n",
       "    </tr>\n",
       "  </thead>\n",
       "  <tbody>\n",
       "    <tr>\n",
       "      <th>0</th>\n",
       "      <td>2818</td>\n",
       "      <td>4</td>\n",
       "    </tr>\n",
       "    <tr>\n",
       "      <th>2</th>\n",
       "      <td>15458166</td>\n",
       "      <td>4</td>\n",
       "    </tr>\n",
       "    <tr>\n",
       "      <th>3</th>\n",
       "      <td>17632137</td>\n",
       "      <td>4</td>\n",
       "    </tr>\n",
       "    <tr>\n",
       "      <th>4</th>\n",
       "      <td>20203218</td>\n",
       "      <td>4</td>\n",
       "    </tr>\n",
       "    <tr>\n",
       "      <th>5</th>\n",
       "      <td>26560199</td>\n",
       "      <td>4</td>\n",
       "    </tr>\n",
       "    <tr>\n",
       "      <th>...</th>\n",
       "      <td>...</td>\n",
       "      <td>...</td>\n",
       "    </tr>\n",
       "    <tr>\n",
       "      <th>166</th>\n",
       "      <td>21354405</td>\n",
       "      <td>4</td>\n",
       "    </tr>\n",
       "    <tr>\n",
       "      <th>167</th>\n",
       "      <td>23747999</td>\n",
       "      <td>4</td>\n",
       "    </tr>\n",
       "    <tr>\n",
       "      <th>168</th>\n",
       "      <td>26000561</td>\n",
       "      <td>4</td>\n",
       "    </tr>\n",
       "    <tr>\n",
       "      <th>169</th>\n",
       "      <td>33990484</td>\n",
       "      <td>4</td>\n",
       "    </tr>\n",
       "    <tr>\n",
       "      <th>170</th>\n",
       "      <td>34882977</td>\n",
       "      <td>4</td>\n",
       "    </tr>\n",
       "  </tbody>\n",
       "</table>\n",
       "<p>153 rows × 2 columns</p>\n",
       "</div>"
      ],
      "text/plain": [
       "     listing_id  rating\n",
       "0          2818       4\n",
       "2      15458166       4\n",
       "3      17632137       4\n",
       "4      20203218       4\n",
       "5      26560199       4\n",
       "..          ...     ...\n",
       "166    21354405       4\n",
       "167    23747999       4\n",
       "168    26000561       4\n",
       "169    33990484       4\n",
       "170    34882977       4\n",
       "\n",
       "[153 rows x 2 columns]"
      ]
     },
     "execution_count": 15,
     "metadata": {},
     "output_type": "execute_result"
    }
   ],
   "source": [
    "info"
   ]
  },
  {
   "cell_type": "code",
   "execution_count": 16,
   "metadata": {},
   "outputs": [
    {
     "data": {
      "text/plain": [
       "(153, 2)"
      ]
     },
     "execution_count": 16,
     "metadata": {},
     "output_type": "execute_result"
    }
   ],
   "source": [
    "info.shape"
   ]
  },
  {
   "cell_type": "code",
   "execution_count": 17,
   "metadata": {},
   "outputs": [],
   "source": [
    "dizio = {}\n",
    "for _, row in info.iterrows():\n",
    "    dizio[str(row['listing_id'])] = row['rating']    "
   ]
  },
  {
   "cell_type": "code",
   "execution_count": 18,
   "metadata": {},
   "outputs": [
    {
     "data": {
      "text/plain": [
       "{'2818': 4,\n",
       " '15458166': 4,\n",
       " '17632137': 4,\n",
       " '20203218': 4,\n",
       " '26560199': 4,\n",
       " '654931': 4,\n",
       " '8874073': 4,\n",
       " '10923071': 4,\n",
       " '25310162': 4,\n",
       " '29776071': 4,\n",
       " '29901220': 4,\n",
       " '685990': 4,\n",
       " '1986095': 4,\n",
       " '2761156': 4,\n",
       " '2763386': 4,\n",
       " '35377242': 4,\n",
       " '730916': 4,\n",
       " '6845563': 4,\n",
       " '12801514': 4,\n",
       " '24628192': 4,\n",
       " '27863226': 4,\n",
       " '29919168': 4,\n",
       " '835550': 4,\n",
       " '12002357': 4,\n",
       " '13825291': 4,\n",
       " '14622016': 4,\n",
       " '14829814': 4,\n",
       " '759060': 4,\n",
       " '927119': 4,\n",
       " '1155251': 4,\n",
       " '2661450': 5,\n",
       " '3428947': 4,\n",
       " '4119684': 4,\n",
       " '19242200': 5,\n",
       " '24981353': 4,\n",
       " '761411': 4,\n",
       " '1583266': 4,\n",
       " '1035801': 4,\n",
       " '3722301': 4,\n",
       " '8398522': 4,\n",
       " '8706862': 4,\n",
       " '15110159': 4,\n",
       " '17859181': 4,\n",
       " '19796378': 4,\n",
       " '24117588': 4,\n",
       " '28042923': 4,\n",
       " '1230403': 4,\n",
       " '1924194': 4,\n",
       " '3003918': 4,\n",
       " '8028683': 4,\n",
       " '9996040': 4,\n",
       " '10240434': 4,\n",
       " '15780515': 4,\n",
       " '15959684': 5,\n",
       " '17005568': 5,\n",
       " '19890254': 4,\n",
       " '22092298': 4,\n",
       " '27725104': 4,\n",
       " '1246308': 4,\n",
       " '2472277': 4,\n",
       " '2700366': 4,\n",
       " '2783156': 4,\n",
       " '3652804': 4,\n",
       " '4656557': 4,\n",
       " '4949644': 4,\n",
       " '6781848': 4,\n",
       " '8475898': 4,\n",
       " '12475352': 4,\n",
       " '12877936': 4,\n",
       " '13135409': 4,\n",
       " '13502166': 4,\n",
       " '14173331': 4,\n",
       " '14245271': 4,\n",
       " '14314114': 4,\n",
       " '14412610': 4,\n",
       " '16696921': 4,\n",
       " '17862359': 4,\n",
       " '20321345': 4,\n",
       " '1321735': 4,\n",
       " '3270897': 4,\n",
       " '4282415': 4,\n",
       " '10934482': 4,\n",
       " '11899719': 4,\n",
       " '20702723': 4,\n",
       " '32008398': 5,\n",
       " '1601408': 4,\n",
       " '4076501': 4,\n",
       " '4259933': 4,\n",
       " '12840460': 4,\n",
       " '12897197': 4,\n",
       " '13189108': 4,\n",
       " '14610348': 5,\n",
       " '14792704': 4,\n",
       " '15564496': 4,\n",
       " '16081933': 4,\n",
       " '16277689': 4,\n",
       " '21374801': 4,\n",
       " '23429851': 5,\n",
       " '23493592': 4,\n",
       " '29984774': 5,\n",
       " '3259374': 5,\n",
       " '8269677': 4,\n",
       " '18514561': 4,\n",
       " '20651079': 4,\n",
       " '24615621': 4,\n",
       " '25992447': 5,\n",
       " '27525864': 5,\n",
       " '1605387': 4,\n",
       " '15110564': 4,\n",
       " '15726563': 4,\n",
       " '16804326': 4,\n",
       " '21188482': 4,\n",
       " '21744543': 4,\n",
       " '27523926': 5,\n",
       " '30140860': 4,\n",
       " '35464664': 4,\n",
       " '2429334': 4,\n",
       " '16401807': 4,\n",
       " '20878711': 4,\n",
       " '22566099': 4,\n",
       " '23575414': 4,\n",
       " '2497346': 4,\n",
       " '14313251': 4,\n",
       " '17986807': 4,\n",
       " '37161821': 4,\n",
       " '39149225': 5,\n",
       " '39168555': 4,\n",
       " '40791472': 4,\n",
       " '3850557': 4,\n",
       " '6512505': 4,\n",
       " '14998245': 4,\n",
       " '17401373': 4,\n",
       " '20908840': 4,\n",
       " '24827860': 4,\n",
       " '7812608': 4,\n",
       " '22026123': 5,\n",
       " '23819110': 5,\n",
       " '7962809': 4,\n",
       " '10800247': 4,\n",
       " '11708784': 4,\n",
       " '14021349': 4,\n",
       " '15595655': 4,\n",
       " '21321370': 4,\n",
       " '22930484': 4,\n",
       " '31148061': 5,\n",
       " '24789739': 5,\n",
       " '17434174': 5,\n",
       " '18950531': 4,\n",
       " '21354405': 4,\n",
       " '23747999': 4,\n",
       " '26000561': 4,\n",
       " '33990484': 4,\n",
       " '34882977': 4}"
      ]
     },
     "execution_count": 18,
     "metadata": {},
     "output_type": "execute_result"
    }
   ],
   "source": [
    "dizio"
   ]
  },
  {
   "cell_type": "code",
   "execution_count": 19,
   "metadata": {},
   "outputs": [],
   "source": [
    "nx.set_node_attributes(g_p, dizio, \"rating\")"
   ]
  },
  {
   "cell_type": "code",
   "execution_count": 21,
   "metadata": {},
   "outputs": [],
   "source": [
    "for u,data in g_p.nodes(data=True):\n",
    "    del data['bipartite']"
   ]
  },
  {
   "cell_type": "code",
   "execution_count": 22,
   "metadata": {},
   "outputs": [
    {
     "name": "stdout",
     "output_type": "stream",
     "text": [
      "3270897 {'rating': 4}\n",
      "1230403 {'rating': 4}\n",
      "15780515 {'rating': 4}\n",
      "22092298 {'rating': 4}\n",
      "13189108 {'rating': 4}\n",
      "2761156 {'rating': 4}\n",
      "15564496 {'rating': 4}\n",
      "15959684 {'rating': 5}\n",
      "27525864 {'rating': 5}\n",
      "30140860 {'rating': 4}\n",
      "21321370 {'rating': 4}\n",
      "3722301 {'rating': 4}\n",
      "20702723 {'rating': 4}\n",
      "8398522 {'rating': 4}\n",
      "39168555 {'rating': 4}\n",
      "37161821 {'rating': 4}\n",
      "1155251 {'rating': 4}\n",
      "1601408 {'rating': 4}\n",
      "8475898 {'rating': 4}\n",
      "7812608 {'rating': 4}\n",
      "14792704 {'rating': 4}\n",
      "24117588 {'rating': 4}\n",
      "16804326 {'rating': 4}\n",
      "1986095 {'rating': 4}\n",
      "40791472 {'rating': 4}\n",
      "24789739 {'rating': 5}\n",
      "7962809 {'rating': 4}\n",
      "2429334 {'rating': 4}\n",
      "10800247 {'rating': 4}\n",
      "34882977 {'rating': 4}\n",
      "1321735 {'rating': 4}\n",
      "23819110 {'rating': 5}\n",
      "35464664 {'rating': 4}\n",
      "17632137 {'rating': 4}\n",
      "14313251 {'rating': 4}\n",
      "10934482 {'rating': 4}\n",
      "4282415 {'rating': 4}\n",
      "11899719 {'rating': 4}\n",
      "20878711 {'rating': 4}\n",
      "10923071 {'rating': 4}\n",
      "23747999 {'rating': 4}\n",
      "32008398 {'rating': 5}\n",
      "4076501 {'rating': 4}\n",
      "835550 {'rating': 4}\n",
      "2783156 {'rating': 4}\n",
      "20203218 {'rating': 4}\n",
      "4949644 {'rating': 4}\n",
      "3259374 {'rating': 5}\n",
      "21374801 {'rating': 4}\n",
      "27863226 {'rating': 4}\n",
      "23429851 {'rating': 5}\n",
      "3850557 {'rating': 4}\n",
      "23575414 {'rating': 4}\n",
      "19796378 {'rating': 4}\n",
      "9996040 {'rating': 4}\n",
      "13526838 {}\n",
      "16401807 {'rating': 4}\n",
      "1924194 {'rating': 4}\n",
      "15595655 {'rating': 4}\n",
      "17434174 {'rating': 5}\n",
      "19890254 {'rating': 4}\n",
      "35271224 {}\n",
      "14998245 {'rating': 4}\n",
      "18950531 {'rating': 4}\n",
      "17401373 {'rating': 4}\n",
      "28042923 {'rating': 4}\n",
      "25310162 {'rating': 4}\n",
      "13825291 {'rating': 4}\n",
      "4656557 {'rating': 4}\n",
      "22026123 {'rating': 5}\n",
      "8874073 {'rating': 4}\n",
      "21354405 {'rating': 4}\n",
      "17859181 {'rating': 4}\n",
      "2472277 {'rating': 4}\n",
      "6781848 {'rating': 4}\n",
      "15458166 {'rating': 4}\n",
      "15726563 {'rating': 4}\n",
      "14314114 {'rating': 4}\n",
      "4119684 {'rating': 4}\n",
      "12877936 {'rating': 4}\n",
      "22566099 {'rating': 4}\n",
      "8028683 {'rating': 4}\n",
      "29919168 {'rating': 4}\n",
      "27725104 {'rating': 4}\n",
      "29776071 {'rating': 4}\n",
      "12840460 {'rating': 4}\n",
      "12897197 {'rating': 4}\n",
      "21188482 {'rating': 4}\n",
      "8706862 {'rating': 4}\n",
      "13502166 {'rating': 4}\n",
      "4259933 {'rating': 4}\n",
      "29901220 {'rating': 4}\n",
      "19242200 {'rating': 5}\n",
      "12475352 {'rating': 4}\n",
      "15110564 {'rating': 4}\n",
      "31148061 {'rating': 5}\n",
      "6512505 {'rating': 4}\n",
      "39149225 {'rating': 5}\n",
      "12002357 {'rating': 4}\n",
      "2497346 {'rating': 4}\n",
      "24981353 {'rating': 4}\n",
      "35505451 {}\n",
      "22930484 {'rating': 4}\n",
      "23493592 {'rating': 4}\n",
      "2818 {'rating': 4}\n",
      "27523926 {'rating': 5}\n",
      "10240434 {'rating': 4}\n",
      "761411 {'rating': 4}\n",
      "14173331 {'rating': 4}\n",
      "17986807 {'rating': 4}\n",
      "3652804 {'rating': 4}\n",
      "25992447 {'rating': 5}\n",
      "24827860 {'rating': 4}\n",
      "24628192 {'rating': 4}\n",
      "14245271 {'rating': 4}\n",
      "14622016 {'rating': 4}\n",
      "26560199 {'rating': 4}\n",
      "15110159 {'rating': 4}\n",
      "14021349 {'rating': 4}\n",
      "1035801 {'rating': 4}\n",
      "12801514 {'rating': 4}\n",
      "3428947 {'rating': 4}\n",
      "759060 {'rating': 4}\n",
      "17862359 {'rating': 4}\n",
      "20321345 {'rating': 4}\n",
      "16696921 {'rating': 4}\n",
      "29984774 {'rating': 5}\n",
      "2700366 {'rating': 4}\n",
      "2763386 {'rating': 4}\n",
      "17005568 {'rating': 5}\n",
      "3003918 {'rating': 4}\n",
      "927119 {'rating': 4}\n",
      "33990484 {'rating': 4}\n",
      "14610348 {'rating': 5}\n",
      "16277689 {'rating': 4}\n",
      "26000561 {'rating': 4}\n",
      "1246308 {'rating': 4}\n",
      "1605387 {'rating': 4}\n",
      "16081933 {'rating': 4}\n",
      "654931 {'rating': 4}\n",
      "11708784 {'rating': 4}\n",
      "24615621 {'rating': 4}\n",
      "13135409 {'rating': 4}\n",
      "8269677 {'rating': 4}\n",
      "14829814 {'rating': 4}\n",
      "21744543 {'rating': 4}\n",
      "685990 {'rating': 4}\n",
      "18514561 {'rating': 4}\n",
      "20908840 {'rating': 4}\n",
      "6845563 {'rating': 4}\n",
      "730916 {'rating': 4}\n",
      "20651079 {'rating': 4}\n",
      "2661450 {'rating': 5}\n",
      "35377242 {'rating': 4}\n",
      "14412610 {'rating': 4}\n",
      "1583266 {'rating': 4}\n"
     ]
    }
   ],
   "source": [
    "for u,data in g_p.nodes(data = True):\n",
    "    print(u,data)"
   ]
  },
  {
   "cell_type": "code",
   "execution_count": 23,
   "metadata": {},
   "outputs": [
    {
     "data": {
      "text/plain": [
       "4"
      ]
     },
     "execution_count": 23,
     "metadata": {},
     "output_type": "execute_result"
    }
   ],
   "source": [
    "g_p.nodes['2818'][\"rating\"]"
   ]
  },
  {
   "cell_type": "code",
   "execution_count": 24,
   "metadata": {},
   "outputs": [
    {
     "name": "stdout",
     "output_type": "stream",
     "text": [
      "Assortativity cluster 0 : -0.01964869427781183 \n",
      "Assortativity cluster 1 : 0.43749999999999994 \n",
      "Assortativity cluster 2 : nan \n",
      "Assortativity cluster 3 : 0.1055778946283135 \n"
     ]
    },
    {
     "name": "stderr",
     "output_type": "stream",
     "text": [
      "C:\\Users\\Gianmarco\\anaconda3\\lib\\site-packages\\networkx\\algorithms\\assortativity\\correlation.py:265: RuntimeWarning: invalid value encountered in true_divide\n",
      "  r = (t - s) / (1 - s)\n"
     ]
    }
   ],
   "source": [
    "lista= comm  #una funzione crescente indica un assortative mixing, se ottengo una funz decerscente i nodi sono tutti diversi\n",
    "for i in range (0, len(lista)):\n",
    "    c=g_p.subgraph(lista[i])\n",
    "    try:\n",
    "        print(\"Assortativity cluster {} : {} \".format(i, attribute_assortativity_coefficient(c, 'rating') ))\n",
    "    except:\n",
    "        pass\n",
    "#dal cluster 2 in poi, tutti i nodi hanno degree uguale all'interno del cluster (es: tutti degree==17)"
   ]
  }
 ],
 "metadata": {
  "kernelspec": {
   "display_name": "Python 3",
   "language": "python",
   "name": "python3"
  },
  "language_info": {
   "codemirror_mode": {
    "name": "ipython",
    "version": 3
   },
   "file_extension": ".py",
   "mimetype": "text/x-python",
   "name": "python",
   "nbconvert_exporter": "python",
   "pygments_lexer": "ipython3",
   "version": "3.7.6"
  }
 },
 "nbformat": 4,
 "nbformat_minor": 4
}
