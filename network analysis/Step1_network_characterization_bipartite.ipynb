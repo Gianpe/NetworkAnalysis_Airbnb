{
 "cells": [
  {
   "cell_type": "code",
   "execution_count": 1,
   "metadata": {},
   "outputs": [],
   "source": [
    "from scipy import stats\n",
    "import pandas as pd\n",
    "import networkx as nx\n",
    "import numpy as np\n",
    "import matplotlib.pyplot as plt\n",
    "from networkx.algorithms import bipartite\n",
    "import networkx.algorithms.community\n",
    "from networkx.algorithms import community\n",
    "import powerlaw\n",
    "from cdlib import viz\n",
    "from matplotlib.cm import ScalarMappable"
   ]
  },
  {
   "cell_type": "markdown",
   "metadata": {},
   "source": [
    "# Importing real and random networks"
   ]
  },
  {
   "cell_type": "code",
   "execution_count": 2,
   "metadata": {},
   "outputs": [],
   "source": [
    "def read_net_w(filename):\n",
    "    g = nx.Graph()\n",
    "    with open(filename) as f:\n",
    "        f.readline()\n",
    "        for l in f:\n",
    "            l = l.split(\",\")\n",
    "            g.add_node(l[0], bipartite = 0)\n",
    "            g.add_node(l[1], bipartite = 1)\n",
    "            g.add_edge(l[0], l[1], weight=int(l[2]))\n",
    "            \n",
    "    return g\n",
    "\n",
    "g = read_net_w(f'Data/weighted_net_amsterdam.csv')"
   ]
  },
  {
   "cell_type": "code",
   "execution_count": 3,
   "metadata": {},
   "outputs": [
    {
     "name": "stdout",
     "output_type": "stream",
     "text": [
      "Name: \n",
      "Type: Graph\n",
      "Number of nodes: 11266\n",
      "Number of edges: 11265\n",
      "Average degree:   1.9998\n"
     ]
    }
   ],
   "source": [
    "print(nx.info(g))"
   ]
  },
  {
   "cell_type": "code",
   "execution_count": 4,
   "metadata": {},
   "outputs": [],
   "source": [
    "# an estimate for the Probability for edge creation\n",
    "p = ((1.9998/11110) + (1.9998/156))/2"
   ]
  },
  {
   "cell_type": "code",
   "execution_count": 5,
   "metadata": {},
   "outputs": [
    {
     "name": "stdout",
     "output_type": "stream",
     "text": [
      "11110\n",
      "156\n"
     ]
    }
   ],
   "source": [
    "top_nodes = {n for n, d in g.nodes(data=True) if d[\"bipartite\"] == 0}\n",
    "bottom_nodes = set(g) - top_nodes #to obtain 2 set of nodes. \n",
    "                                  #This is usefull because a lot of bipartite functions need a set of nodes\n",
    "print(len(top_nodes))\n",
    "print(len(bottom_nodes))"
   ]
  },
  {
   "cell_type": "code",
   "execution_count": 6,
   "metadata": {},
   "outputs": [],
   "source": [
    "rand_g = bipartite.random_graph(len(top_nodes),len(bottom_nodes), p = p)"
   ]
  },
  {
   "cell_type": "code",
   "execution_count": 7,
   "metadata": {},
   "outputs": [
    {
     "name": "stdout",
     "output_type": "stream",
     "text": [
      "Name: fast_gnp_random_graph(11110,156,0.006499615384615384)\n",
      "Type: Graph\n",
      "Number of nodes: 11266\n",
      "Number of edges: 11171\n",
      "Average degree:   1.9831\n"
     ]
    }
   ],
   "source": [
    "print(nx.info(rand_g))"
   ]
  },
  {
   "cell_type": "code",
   "execution_count": 9,
   "metadata": {},
   "outputs": [
    {
     "data": {
      "text/plain": [
       "True"
      ]
     },
     "execution_count": 9,
     "metadata": {},
     "output_type": "execute_result"
    }
   ],
   "source": [
    "bipartite.is_bipartite(rand_g)"
   ]
  },
  {
   "cell_type": "code",
   "execution_count": 8,
   "metadata": {},
   "outputs": [],
   "source": [
    "sequence_0 = [i[1] for i in g.degree() if i[0] in top_nodes]\n",
    "sequence_1 = [i[1] for i in g.degree() if i[0] in bottom_nodes]"
   ]
  },
  {
   "cell_type": "code",
   "execution_count": 14,
   "metadata": {},
   "outputs": [],
   "source": [
    "bcm_g = bipartite.configuration_model(sequence_0,sequence_1, create_using = nx.Graph())"
   ]
  },
  {
   "cell_type": "code",
   "execution_count": 21,
   "metadata": {},
   "outputs": [
    {
     "name": "stdout",
     "output_type": "stream",
     "text": [
      "Name: bipartite_configuration_model\n",
      "Type: Graph\n",
      "Number of nodes: 11266\n",
      "Number of edges: 11256\n",
      "Average degree:   1.9982\n"
     ]
    }
   ],
   "source": [
    "print(nx.info(bcm_g))"
   ]
  },
  {
   "cell_type": "code",
   "execution_count": 15,
   "metadata": {},
   "outputs": [],
   "source": [
    "p0 = len(bottom_nodes)/len(top_nodes)\n",
    "p1 = 1-p0"
   ]
  },
  {
   "cell_type": "code",
   "execution_count": 16,
   "metadata": {},
   "outputs": [
    {
     "name": "stdout",
     "output_type": "stream",
     "text": [
      "0.014041404140414042 0.985958595859586\n"
     ]
    }
   ],
   "source": [
    "print(p0,p1)"
   ]
  },
  {
   "cell_type": "code",
   "execution_count": 17,
   "metadata": {},
   "outputs": [],
   "source": [
    "bsf = bipartite.preferential_attachment_graph(sequence_0,p0,create_using=nx.Graph())"
   ]
  },
  {
   "cell_type": "code",
   "execution_count": 18,
   "metadata": {},
   "outputs": [],
   "source": [
    "bsf1 = bipartite.preferential_attachment_graph(sequence_1,p1,create_using=nx.Graph())"
   ]
  },
  {
   "cell_type": "code",
   "execution_count": 19,
   "metadata": {},
   "outputs": [
    {
     "name": "stdout",
     "output_type": "stream",
     "text": [
      "Name: bipartite_preferential_attachment_model\n",
      "Type: Graph\n",
      "Number of nodes: 11263\n",
      "Number of edges: 11126\n",
      "Average degree:   1.9757\n"
     ]
    }
   ],
   "source": [
    "print(nx.info(bsf))"
   ]
  },
  {
   "cell_type": "code",
   "execution_count": 20,
   "metadata": {},
   "outputs": [
    {
     "name": "stdout",
     "output_type": "stream",
     "text": [
      "Name: bipartite_preferential_attachment_model\n",
      "Type: Graph\n",
      "Number of nodes: 11248\n",
      "Number of edges: 11256\n",
      "Average degree:   2.0014\n"
     ]
    }
   ],
   "source": [
    "print(nx.info(bsf1))"
   ]
  },
  {
   "cell_type": "markdown",
   "metadata": {},
   "source": [
    "# Comparison of path lengh"
   ]
  },
  {
   "cell_type": "markdown",
   "metadata": {},
   "source": [
    "we campare path lenght on giant connected component"
   ]
  },
  {
   "cell_type": "code",
   "execution_count": 39,
   "metadata": {},
   "outputs": [],
   "source": [
    "gc = g.subgraph(sorted(nx.connected_components(g), key=len, reverse=True)[0])\n",
    "gc_rand_g = rand_g.subgraph(sorted(nx.connected_components(rand_g), key=len, reverse=True)[0])\n",
    "gc_bcm_g = bcm_g.subgraph(sorted(nx.connected_components(bcm_g), key=len, reverse=True)[0])\n",
    "gc_bsf1 = bsf1.subgraph(sorted(nx.connected_components(bsf1), key=len, reverse=True)[0])"
   ]
  },
  {
   "cell_type": "code",
   "execution_count": 40,
   "metadata": {
    "scrolled": true
   },
   "outputs": [
    {
     "name": "stdout",
     "output_type": "stream",
     "text": [
      "10.622011177691999\n"
     ]
    }
   ],
   "source": [
    "print(nx.average_shortest_path_length(gc))"
   ]
  },
  {
   "cell_type": "code",
   "execution_count": 41,
   "metadata": {},
   "outputs": [
    {
     "name": "stdout",
     "output_type": "stream",
     "text": [
      "4.739765194562542\n"
     ]
    }
   ],
   "source": [
    "print(nx.average_shortest_path_length(gc_rand_g))"
   ]
  },
  {
   "cell_type": "code",
   "execution_count": 42,
   "metadata": {},
   "outputs": [
    {
     "name": "stdout",
     "output_type": "stream",
     "text": [
      "5.182798490856276\n"
     ]
    }
   ],
   "source": [
    "print(nx.average_shortest_path_length(gc_bcm_g))"
   ]
  },
  {
   "cell_type": "code",
   "execution_count": 43,
   "metadata": {},
   "outputs": [
    {
     "name": "stdout",
     "output_type": "stream",
     "text": [
      "6.266370374589076\n"
     ]
    }
   ],
   "source": [
    "print(nx.average_shortest_path_length(gc_bsf1))"
   ]
  },
  {
   "cell_type": "markdown",
   "metadata": {},
   "source": [
    "# Comparison of Degree Distributions"
   ]
  },
  {
   "cell_type": "code",
   "execution_count": 23,
   "metadata": {},
   "outputs": [],
   "source": [
    "real_observed_degree = [i[1] for i in g.degree()]\n",
    "rand_observed_degree = [i[1] for i in rand_g.degree()]\n",
    "bconf_observed_degree = [i[1] for i in bcm_g.degree()]\n",
    "bsf_observed_degree = [i[1] for i in bsf.degree()]\n",
    "bsf1_observed_degree = [i[1] for i in bsf1.degree()]"
   ]
  },
  {
   "cell_type": "code",
   "execution_count": 24,
   "metadata": {},
   "outputs": [
    {
     "data": {
      "image/png": "[encoded data removed]",
      "text/plain": [
       "<Figure size 1152x864 with 4 Axes>"
      ]
     },
     "metadata": {
      "needs_background": "light"
     },
     "output_type": "display_data"
    }
   ],
   "source": [
    "hist_real = nx.degree_histogram(g)\n",
    "hist_rand = nx.degree_histogram(rand_g)\n",
    "hist_bconf = nx.degree_histogram(bcm_g)\n",
    "hist_bsf = nx.degree_histogram(bsf)\n",
    "hist_bsf1 = nx.degree_histogram(bsf1)\n",
    "\n",
    "fig = plt.figure(figsize=(16,12) )\n",
    "\n",
    "plt.subplot(2,2,1)\n",
    "plt.plot(range(0, len(hist_real)), hist_real, \".\")\n",
    "plt.title(\"Degree Distribution Real Graph\")\n",
    "plt.xlabel(\"Degree\")\n",
    "plt.ylabel(\"#Nodes\")\n",
    "plt.loglog()\n",
    "\n",
    "\n",
    "plt.subplot(2,2,2)\n",
    "plt.plot(range(0, len(hist_rand)), hist_rand, \".\")\n",
    "plt.title(\"Degree Distribution Random Model\")\n",
    "plt.xlabel(\"Degree\")\n",
    "plt.ylabel(\"#Nodes\")\n",
    "plt.loglog()\n",
    "\n",
    "\n",
    "\n",
    "plt.subplot(2,2,3)\n",
    "plt.plot(range(0, len(hist_bconf)), hist_bconf, \".\")\n",
    "plt.title(\"Degree Distribution Configuration Model\")\n",
    "plt.xlabel(\"Degree\")\n",
    "plt.ylabel(\"#Nodes\")\n",
    "plt.loglog()\n",
    "\n",
    "plt.subplot(2,2,4)\n",
    "plt.plot(range(0, len(hist_bsf1)), hist_bsf1, \".\")\n",
    "plt.title(\"Degree Distrib Prefer Attach Model on listings\")\n",
    "plt.xlabel(\"Degree\")\n",
    "plt.ylabel(\"#Nodes\")\n",
    "plt.loglog()\n",
    "\n",
    "\n",
    "\n",
    "plt.show()"
   ]
  },
  {
   "cell_type": "markdown",
   "metadata": {},
   "source": [
    "###### Comparison between real and artificial network through kolmogorov test"
   ]
  },
  {
   "cell_type": "markdown",
   "metadata": {},
   "source": [
    "If the KS statistic is small or the p-value is high, then we cannot reject the hypothesis that the distributions of the two samples are the same"
   ]
  },
  {
   "cell_type": "code",
   "execution_count": 25,
   "metadata": {},
   "outputs": [
    {
     "data": {
      "text/plain": [
       "Ks_2sampResult(statistic=0.3561157464938754, pvalue=0.0)"
      ]
     },
     "execution_count": 25,
     "metadata": {},
     "output_type": "execute_result"
    }
   ],
   "source": [
    "stats.ks_2samp(np.array(real_observed_degree),np.array(rand_observed_degree))"
   ]
  },
  {
   "cell_type": "code",
   "execution_count": 26,
   "metadata": {},
   "outputs": [
    {
     "data": {
      "text/plain": [
       "Ks_2sampResult(statistic=0.00017752529735481914, pvalue=1.0)"
      ]
     },
     "execution_count": 26,
     "metadata": {},
     "output_type": "execute_result"
    }
   ],
   "source": [
    "stats.ks_2samp(np.array(real_observed_degree),np.array(bconf_observed_degree))"
   ]
  },
  {
   "cell_type": "code",
   "execution_count": 27,
   "metadata": {},
   "outputs": [
    {
     "data": {
      "text/plain": [
       "Ks_2sampResult(statistic=0.011272028886863406, pvalue=0.47149743896090857)"
      ]
     },
     "execution_count": 27,
     "metadata": {},
     "output_type": "execute_result"
    }
   ],
   "source": [
    "stats.ks_2samp(np.array(real_observed_degree),np.array(bsf_observed_degree))"
   ]
  },
  {
   "cell_type": "code",
   "execution_count": 28,
   "metadata": {},
   "outputs": [
    {
     "data": {
      "text/plain": [
       "Ks_2sampResult(statistic=0.010429263997288829, pvalue=0.5729622925552981)"
      ]
     },
     "execution_count": 28,
     "metadata": {},
     "output_type": "execute_result"
    }
   ],
   "source": [
    "stats.ks_2samp(np.array(real_observed_degree),np.array(bsf1_observed_degree))"
   ]
  },
  {
   "cell_type": "markdown",
   "metadata": {},
   "source": [
    "# Compare Clustering coefficient,nr of conn comp and density"
   ]
  },
  {
   "cell_type": "code",
   "execution_count": 29,
   "metadata": {},
   "outputs": [
    {
     "data": {
      "image/png": "[encoded data removed]",
      "text/plain": [
       "<Figure size 864x288 with 3 Axes>"
      ]
     },
     "metadata": {},
     "output_type": "display_data"
    }
   ],
   "source": [
    "from matplotlib.cm import ScalarMappable\n",
    "lcc = bipartite.clustering(gc)\n",
    "\n",
    "cmap = plt.get_cmap('autumn')\n",
    "norm = plt.Normalize(0, max(lcc.values()))\n",
    "node_colors = [cmap(norm(lcc[node])) for node in gc.nodes]\n",
    "\n",
    "fig, (ax1, ax2) = plt.subplots(ncols=2, figsize=(12, 4))\n",
    "nx.draw_spring(gc, node_color=node_colors, with_labels=False, ax=ax1,linewidths= 2.0)\n",
    "fig.colorbar(ScalarMappable(cmap=cmap, norm=norm), label='Clustering', shrink=0.95, ax=ax1)\n",
    "\n",
    "ax2.hist(lcc.values(), bins=10)\n",
    "ax2.set_xlabel('Clustering')\n",
    "ax2.set_ylabel('Frequency')\n",
    "\n",
    "plt.tight_layout()\n",
    "plt.show()"
   ]
  },
  {
   "cell_type": "code",
   "execution_count": 30,
   "metadata": {},
   "outputs": [
    {
     "name": "stdout",
     "output_type": "stream",
     "text": [
      "Name: \n",
      "Type: Graph\n",
      "Number of nodes: 11266\n",
      "Number of edges: 11265\n",
      "Average degree:   1.9998\n",
      "Density : 0.0064996884303814995\n",
      "Clustering Coefficient : 0.9706144371680913\n",
      "Number of Connected Components : 9\n"
     ]
    }
   ],
   "source": [
    "print(nx.info(g))\n",
    "print(\"Density : {}\".format(bipartite.density(g,top_nodes)))\n",
    "print(\"Clustering Coefficient : {}\".format(bipartite.average_clustering(g)))\n",
    "print(\"Number of Connected Components : {}\".format(nx.number_connected_components(g)))"
   ]
  },
  {
   "cell_type": "code",
   "execution_count": 31,
   "metadata": {},
   "outputs": [
    {
     "name": "stdout",
     "output_type": "stream",
     "text": [
      "11110\n",
      "156\n"
     ]
    }
   ],
   "source": [
    "top_nodes_rand = {n for n, d in rand_g.nodes(data=True) if d[\"bipartite\"] == 0}\n",
    "bottom_nodes_rand = set(rand_g) - top_nodes_rand #to obtain 2 set of nodes. \n",
    "                                  #This is usefull because a lot of bipartite functions need a set of nodes\n",
    "print(len(top_nodes_rand))\n",
    "print(len(bottom_nodes_rand))"
   ]
  },
  {
   "cell_type": "code",
   "execution_count": 32,
   "metadata": {},
   "outputs": [
    {
     "name": "stdout",
     "output_type": "stream",
     "text": [
      "Name: fast_gnp_random_graph(11110,156,0.006499615384615384)\n",
      "Type: Graph\n",
      "Number of nodes: 11266\n",
      "Number of edges: 11171\n",
      "Average degree:   1.9831\n",
      "Density : 0.006445452237531446\n",
      "Clustering Coefficient : 0.3218068059882518\n",
      "Number of Connected Components : 4013\n"
     ]
    }
   ],
   "source": [
    "print(nx.info(rand_g))\n",
    "print(\"Density : {}\".format(bipartite.density(rand_g,top_nodes_rand)))\n",
    "print(\"Clustering Coefficient : {}\".format(bipartite.average_clustering(rand_g)))\n",
    "print(\"Number of Connected Components : {}\".format(nx.number_connected_components(rand_g)))"
   ]
  },
  {
   "cell_type": "code",
   "execution_count": 33,
   "metadata": {},
   "outputs": [
    {
     "name": "stdout",
     "output_type": "stream",
     "text": [
      "11110\n",
      "156\n"
     ]
    }
   ],
   "source": [
    "top_nodes_bcm = {n for n, d in bcm_g.nodes(data=True) if d[\"bipartite\"] == 0}\n",
    "bottom_nodes_bcm = set(bcm_g) - top_nodes_bcm #to obtain 2 set of nodes. \n",
    "                                  #This is usefull because a lot of bipartite functions need a set of nodes\n",
    "print(len(top_nodes_bcm))\n",
    "print(len(bottom_nodes_bcm))"
   ]
  },
  {
   "cell_type": "code",
   "execution_count": 34,
   "metadata": {},
   "outputs": [
    {
     "name": "stdout",
     "output_type": "stream",
     "text": [
      "Name: bipartite_configuration_model\n",
      "Type: Graph\n",
      "Number of nodes: 11266\n",
      "Number of edges: 11256\n",
      "Average degree:   1.9982\n",
      "Density : 0.006494495603406494\n",
      "Clustering Coefficient : 0.9707952214788624\n",
      "Number of Connected Components : 80\n"
     ]
    }
   ],
   "source": [
    "print(nx.info(bcm_g))\n",
    "print(\"Density : {}\".format(bipartite.density(bcm_g,top_nodes_bcm)))\n",
    "print(\"Clustering Coefficient : {}\".format(bipartite.average_clustering(bcm_g)))\n",
    "print(\"Number of Connected Components : {}\".format(nx.number_connected_components(bcm_g)))"
   ]
  },
  {
   "cell_type": "code",
   "execution_count": 35,
   "metadata": {},
   "outputs": [
    {
     "name": "stdout",
     "output_type": "stream",
     "text": [
      "11110\n",
      "153\n"
     ]
    }
   ],
   "source": [
    "top_nodes_bsf = {n for n, d in bsf.nodes(data=True) if d[\"bipartite\"] == 0}\n",
    "bottom_nodes_bsf = set(bsf) - top_nodes_bsf #to obtain 2 set of nodes. \n",
    "                                  #This is usefull because a lot of bipartite functions need a set of nodes\n",
    "print(len(top_nodes_bsf))\n",
    "print(len(bottom_nodes_bsf))"
   ]
  },
  {
   "cell_type": "code",
   "execution_count": 36,
   "metadata": {},
   "outputs": [
    {
     "name": "stdout",
     "output_type": "stream",
     "text": [
      "Name: bipartite_preferential_attachment_model\n",
      "Type: Graph\n",
      "Number of nodes: 11263\n",
      "Number of edges: 11126\n",
      "Average degree:   1.9757\n",
      "Density : 0.006545360418394781\n",
      "Clustering Coefficient : 0.9771047609670076\n",
      "Number of Connected Components : 141\n"
     ]
    }
   ],
   "source": [
    "print(nx.info(bsf))\n",
    "print(\"Density : {}\".format(bipartite.density(bsf,top_nodes_bsf)))\n",
    "print(\"Clustering Coefficient : {}\".format(bipartite.average_clustering(bsf)))\n",
    "print(\"Number of Connected Components : {}\".format(nx.number_connected_components(bsf)))"
   ]
  },
  {
   "cell_type": "code",
   "execution_count": 37,
   "metadata": {},
   "outputs": [
    {
     "name": "stdout",
     "output_type": "stream",
     "text": [
      "156\n",
      "11092\n"
     ]
    }
   ],
   "source": [
    "top_nodes_bsf1 = {n for n, d in bsf1.nodes(data=True) if d[\"bipartite\"] == 0}\n",
    "bottom_nodes_bsf1 = set(bsf1) - top_nodes_bsf1 #to obtain 2 set of nodes. \n",
    "                                  #This is usefull because a lot of bipartite functions need a set of nodes\n",
    "print(len(top_nodes_bsf1))\n",
    "print(len(bottom_nodes_bsf1))"
   ]
  },
  {
   "cell_type": "code",
   "execution_count": 38,
   "metadata": {},
   "outputs": [
    {
     "name": "stdout",
     "output_type": "stream",
     "text": [
      "Name: bipartite_preferential_attachment_model\n",
      "Type: Graph\n",
      "Number of nodes: 11248\n",
      "Number of edges: 11256\n",
      "Average degree:   2.0014\n",
      "Density : 0.006505034813725762\n",
      "Clustering Coefficient : 0.964782898993546\n",
      "Number of Connected Components : 82\n"
     ]
    }
   ],
   "source": [
    "print(nx.info(bsf1))\n",
    "print(\"Density : {}\".format(bipartite.density(bsf1,top_nodes_bsf1)))\n",
    "print(\"Clustering Coefficient : {}\".format(bipartite.average_clustering(bsf1)))\n",
    "print(\"Number of Connected Components : {}\".format(nx.number_connected_components(bsf1)))"
   ]
  },
  {
   "cell_type": "code",
   "execution_count": null,
   "metadata": {},
   "outputs": [],
   "source": []
  }
 ],
 "metadata": {
  "kernelspec": {
   "display_name": "Python 3",
   "language": "python",
   "name": "python3"
  },
  "language_info": {
   "codemirror_mode": {
    "name": "ipython",
    "version": 3
   },
   "file_extension": ".py",
   "mimetype": "text/x-python",
   "name": "python",
   "nbconvert_exporter": "python",
   "pygments_lexer": "ipython3",
   "version": "3.7.6"
  }
 },
 "nbformat": 4,
 "nbformat_minor": 4
}
